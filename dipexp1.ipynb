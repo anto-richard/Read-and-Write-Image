{
 "cells": [
  {
   "cell_type": "code",
   "execution_count": 6,
   "id": "a848fcb4-1ed1-40ab-950c-697e20cf1c59",
   "metadata": {},
   "outputs": [
    {
     "data": {
      "text/plain": [
       "16"
      ]
     },
     "execution_count": 6,
     "metadata": {},
     "output_type": "execute_result"
    }
   ],
   "source": [
    "import cv2\n",
    "pic=cv2.imread(\"Husky.jpg\",1)\n",
    "crop=pic[300:400,300:400]\n",
    "pic[50:150,50:150]=crop\n",
    "cv2.imshow(\"212221240005\",pic)\n",
    "cv2.waitKey(0)"
   ]
  },
  {
   "cell_type": "code",
   "execution_count": null,
   "id": "1164a552-84a6-4043-b7e7-e1120ad9f932",
   "metadata": {},
   "outputs": [],
   "source": []
  }
 ],
 "metadata": {
  "kernelspec": {
   "display_name": "Python 3 (ipykernel)",
   "language": "python",
   "name": "python3"
  },
  "language_info": {
   "codemirror_mode": {
    "name": "ipython",
    "version": 3
   },
   "file_extension": ".py",
   "mimetype": "text/x-python",
   "name": "python",
   "nbconvert_exporter": "python",
   "pygments_lexer": "ipython3",
   "version": "3.10.9"
  }
 },
 "nbformat": 4,
 "nbformat_minor": 5
}
