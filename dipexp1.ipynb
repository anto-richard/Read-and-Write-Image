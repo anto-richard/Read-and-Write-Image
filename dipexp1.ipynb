{
 "cells": [
  {
   "cell_type": "code",
   "execution_count": null,
   "id": "a848fcb4-1ed1-40ab-950c-697e20cf1c59",
   "metadata": {},
   "outputs": [],
   "source": [
    "import cv2\n",
    "pic=cv2.imread(\"Husky.jpg\",1)\n",
    "cv2.imshow(\"212221240005\",pic)\n",
    "cv2.waitKey(0)\n",
    "cv2.destroyAllWindows()"
   ]
  },
  {
   "cell_type": "code",
   "execution_count": null,
   "id": "14ebba76-a826-4be7-9bf3-7eb16beed150",
   "metadata": {},
   "outputs": [],
   "source": [
    "import cv2\n",
    "pic=cv2.imread(\"Husky.jpg\",1)\n",
    "cv2.imshow(\"212221240005\",pic)\n",
    "cv2.waitKey(0)\n",
    "cv2.destroyAllWindows()"
   ]
  },
  {
   "cell_type": "code",
   "execution_count": null,
   "id": "4990bf15-2ab1-49f7-a57a-84b3beb78485",
   "metadata": {},
   "outputs": [],
   "source": [
    "import cv2\n",
    "pic = cv2.imread('Husky.jpg',1)\n",
    "print(pic.shape)"
   ]
  },
  {
   "cell_type": "code",
   "execution_count": null,
   "id": "0b088ced-9981-4f0c-b482-21d3a1acabd3",
   "metadata": {},
   "outputs": [],
   "source": [
    "import random\n",
    "import cv2\n",
    "pic=cv2.imread(\"Husky.jpg\",1)\n",
    "for i in range(100):\n",
    "    for j in range(pic.shape[1]):\n",
    "        pic[i][j]=[random.randint(0,255),random.randint(0,255),random.randint(0,255)]\n",
    "cv2.imshow(\"212221230005\",pic)\n",
    "cv2.waitKey(0)\n",
    "cv2.destroyAllWindows()"
   ]
  },
  {
   "cell_type": "code",
   "execution_count": null,
   "id": "4cd2af4f-8a7a-4f2b-a23f-63293428917a",
   "metadata": {},
   "outputs": [],
   "source": [
    "import cv2\n",
    "pic=cv2.imread(\"Husky.jpg\",1)\n",
    "crop=pic[300:400,300:400]\n",
    "pic[50:150,50:150]=crop\n",
    "cv2.imshow(\"212221240005\",pic)\n",
    "cv2.waitKey(0)\n",
    "cv2.destroyAllWindows()"
   ]
  }
 ],
 "metadata": {
  "kernelspec": {
   "display_name": "Python 3 (ipykernel)",
   "language": "python",
   "name": "python3"
  },
  "language_info": {
   "codemirror_mode": {
    "name": "ipython",
    "version": 3
   },
   "file_extension": ".py",
   "mimetype": "text/x-python",
   "name": "python",
   "nbconvert_exporter": "python",
   "pygments_lexer": "ipython3",
   "version": "3.10.9"
  }
 },
 "nbformat": 4,
 "nbformat_minor": 5
}
